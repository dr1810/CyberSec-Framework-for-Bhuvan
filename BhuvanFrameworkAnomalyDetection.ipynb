{
 "cells": [
  {
   "cell_type": "code",
   "execution_count": 25,
   "id": "8d75685e",
   "metadata": {},
   "outputs": [],
   "source": [
    "import pandas as pd\n",
    "from sklearn.decomposition import PCA\n",
    "from sklearn.preprocessing import LabelEncoder,StandardScaler\n",
    "from sklearn.feature_selection import f_classif,SelectKBest,chi2\n",
    "from sklearn.linear_model import LogisticRegression\n",
    "from sklearn.tree import DecisionTreeClassifier\n",
    "from sklearn.model_selection import train_test_split\n",
    "from sklearn.metrics import classification_report\n",
    "from imblearn.over_sampling import SMOTE\n",
    "from sklearn.ensemble import RandomForestClassifier,AdaBoostClassifier\n",
    "from sklearn.decomposition import PCA\n",
    "import tensorflow as tf\n",
    "from sklearn.cluster import DBSCAN\n",
    "from tensorflow.keras.models import Sequential\n",
    "from tensorflow.keras.layers import Dense\n",
    "from sklearn.model_selection import train_test_split\n",
    "from sklearn.preprocessing import StandardScaler\n",
    "from keras.utils import to_categorical\n",
    "import matplotlib.pyplot as plt"
   ]
  },
  {
   "cell_type": "code",
   "execution_count": 2,
   "id": "b0eb9aba",
   "metadata": {},
   "outputs": [
    {
     "name": "stderr",
     "output_type": "stream",
     "text": [
      "C:\\Users\\dharu\\AppData\\Local\\Temp\\ipykernel_19628\\771902853.py:1: DtypeWarning: Columns (49,58,59,60,62,63,64,65,66,67,69,70,72) have mixed types. Specify dtype option on import or set low_memory=False.\n",
      "  firewall = pd.read_csv(\"C:/Users/dharu/OneDrive/Desktop/ISROSpaceHackathon/firewall.csv\")\n"
     ]
    }
   ],
   "source": [
    "firewall = pd.read_csv(\"C:/Users/dharu/OneDrive/Desktop/ISROSpaceHackathon/firewall.csv\")"
   ]
  },
  {
   "cell_type": "code",
   "execution_count": 3,
   "id": "9cd0e4c8",
   "metadata": {},
   "outputs": [
    {
     "name": "stdout",
     "output_type": "stream",
     "text": [
      "<class 'pandas.core.frame.DataFrame'>\n",
      "RangeIndex: 380837 entries, 0 to 380836\n",
      "Data columns (total 74 columns):\n",
      " #   Column            Non-Null Count   Dtype  \n",
      "---  ------            --------------   -----  \n",
      " 0   logver            380837 non-null  int64  \n",
      " 1   timestamp         380837 non-null  int64  \n",
      " 2   tz                380837 non-null  object \n",
      " 3   devname           380837 non-null  object \n",
      " 4   devid             380837 non-null  object \n",
      " 5   vd                380837 non-null  object \n",
      " 6   date              380837 non-null  object \n",
      " 7   time              380837 non-null  object \n",
      " 8   logid             380837 non-null  object \n",
      " 9   type              380837 non-null  object \n",
      " 10  subtype           380837 non-null  object \n",
      " 11  level             380837 non-null  object \n",
      " 12  eventtime         380837 non-null  int64  \n",
      " 13  srcip             378837 non-null  object \n",
      " 14  srcport           284987 non-null  float64\n",
      " 15  srcintf           378837 non-null  object \n",
      " 16  srcintfrole       378837 non-null  object \n",
      " 17  dstip             378837 non-null  object \n",
      " 18  dstport           284987 non-null  float64\n",
      " 19  dstintf           378837 non-null  object \n",
      " 20  dstintfrole       378837 non-null  object \n",
      " 21  poluuid           378528 non-null  object \n",
      " 22  sessionid         378837 non-null  float64\n",
      " 23  proto             378837 non-null  float64\n",
      " 24  action            378977 non-null  object \n",
      " 25  policyid          378837 non-null  float64\n",
      " 26  policytype        378528 non-null  object \n",
      " 27  service           378837 non-null  object \n",
      " 28  dstcountry        378495 non-null  object \n",
      " 29  srccountry        378498 non-null  object \n",
      " 30  trandisp          378495 non-null  object \n",
      " 31  duration          378495 non-null  float64\n",
      " 32  sentbyte          378495 non-null  float64\n",
      " 33  rcvdbyte          378495 non-null  float64\n",
      " 34  sentpkt           378495 non-null  float64\n",
      " 35  appcat            378834 non-null  object \n",
      " 36  rcvdpkt           229304 non-null  float64\n",
      " 37  wanin             32624 non-null   float64\n",
      " 38  wanout            32624 non-null   float64\n",
      " 39  lanin             32624 non-null   float64\n",
      " 40  lanout            32624 non-null   float64\n",
      " 41  sentdelta         12862 non-null   float64\n",
      " 42  rcvddelta         12862 non-null   float64\n",
      " 43  crscore           16791 non-null   float64\n",
      " 44  craction          16788 non-null   float64\n",
      " 45  crlevel           16788 non-null   object \n",
      " 46  logdesc           2000 non-null    object \n",
      " 47  hostname          1859 non-null    object \n",
      " 48  msg               2003 non-null    object \n",
      " 49  app               306 non-null     object \n",
      " 50  cpu               124 non-null     float64\n",
      " 51  mem               124 non-null     float64\n",
      " 52  totalsession      124 non-null     float64\n",
      " 53  disk              124 non-null     float64\n",
      " 54  bandwidth         124 non-null     object \n",
      " 55  setuprate         124 non-null     float64\n",
      " 56  disklograte       124 non-null     float64\n",
      " 57  fazlograte        124 non-null     float64\n",
      " 58  user              10 non-null      object \n",
      " 59  ui                10 non-null      object \n",
      " 60  status            11 non-null      object \n",
      " 61  count             10 non-null      float64\n",
      " 62  reason            6 non-null       object \n",
      " 63  log               6 non-null       object \n",
      " 64  eventtype         3 non-null       object \n",
      " 65  severity          3 non-null       object \n",
      " 66  attack            3 non-null       object \n",
      " 67  direction         3 non-null       object \n",
      " 68  attackid          3 non-null       float64\n",
      " 69  profile           3 non-null       object \n",
      " 70  ref               3 non-null       object \n",
      " 71  incidentserialno  3 non-null       float64\n",
      " 72  utmaction         3 non-null       object \n",
      " 73  countips          3 non-null       float64\n",
      "dtypes: float64(29), int64(3), object(42)\n",
      "memory usage: 215.0+ MB\n"
     ]
    }
   ],
   "source": [
    "firewall.info()"
   ]
  },
  {
   "cell_type": "code",
   "execution_count": 4,
   "id": "4ecc73e3",
   "metadata": {},
   "outputs": [],
   "source": [
    "threshold = 0.9  # Choose an appropriate threshold\n",
    "df_cleaned = firewall.dropna(thresh=threshold*len(firewall), axis=1)"
   ]
  },
  {
   "cell_type": "code",
   "execution_count": 6,
   "id": "6e3810b8",
   "metadata": {},
   "outputs": [
    {
     "name": "stdout",
     "output_type": "stream",
     "text": [
      "<class 'pandas.core.frame.DataFrame'>\n",
      "RangeIndex: 380837 entries, 0 to 380836\n",
      "Data columns (total 34 columns):\n",
      " #   Column       Non-Null Count   Dtype  \n",
      "---  ------       --------------   -----  \n",
      " 0   logver       380837 non-null  int64  \n",
      " 1   timestamp    380837 non-null  int64  \n",
      " 2   tz           380837 non-null  object \n",
      " 3   devname      380837 non-null  object \n",
      " 4   devid        380837 non-null  object \n",
      " 5   vd           380837 non-null  object \n",
      " 6   date         380837 non-null  object \n",
      " 7   time         380837 non-null  object \n",
      " 8   logid        380837 non-null  object \n",
      " 9   type         380837 non-null  object \n",
      " 10  subtype      380837 non-null  object \n",
      " 11  level        380837 non-null  object \n",
      " 12  eventtime    380837 non-null  int64  \n",
      " 13  srcip        378837 non-null  object \n",
      " 14  srcintf      378837 non-null  object \n",
      " 15  srcintfrole  378837 non-null  object \n",
      " 16  dstip        378837 non-null  object \n",
      " 17  dstintf      378837 non-null  object \n",
      " 18  dstintfrole  378837 non-null  object \n",
      " 19  poluuid      378528 non-null  object \n",
      " 20  sessionid    378837 non-null  float64\n",
      " 21  proto        378837 non-null  float64\n",
      " 22  action       378977 non-null  object \n",
      " 23  policyid     378837 non-null  float64\n",
      " 24  policytype   378528 non-null  object \n",
      " 25  service      378837 non-null  object \n",
      " 26  dstcountry   378495 non-null  object \n",
      " 27  srccountry   378498 non-null  object \n",
      " 28  trandisp     378495 non-null  object \n",
      " 29  duration     378495 non-null  float64\n",
      " 30  sentbyte     378495 non-null  float64\n",
      " 31  rcvdbyte     378495 non-null  float64\n",
      " 32  sentpkt      378495 non-null  float64\n",
      " 33  appcat       378834 non-null  object \n",
      "dtypes: float64(7), int64(3), object(24)\n",
      "memory usage: 98.8+ MB\n"
     ]
    }
   ],
   "source": [
    "df_cleaned.info()"
   ]
  },
  {
   "cell_type": "code",
   "execution_count": 16,
   "id": "74948a12",
   "metadata": {},
   "outputs": [],
   "source": [
    "fl = [i for i in df_cleaned.columns if df_cleaned[i].dtype == \"float64\"]\n",
    "it = [i for i in df_cleaned.columns if df_cleaned[i].dtype == \"int64\"]\n",
    "ob = [i for i in df_cleaned.columns if df_cleaned[i].dtype == \"object\"]"
   ]
  },
  {
   "cell_type": "code",
   "execution_count": 17,
   "id": "72c3fa6c",
   "metadata": {},
   "outputs": [
    {
     "name": "stderr",
     "output_type": "stream",
     "text": [
      "C:\\Users\\dharu\\AppData\\Local\\Temp\\ipykernel_19628\\1744801047.py:1: SettingWithCopyWarning: \n",
      "A value is trying to be set on a copy of a slice from a DataFrame.\n",
      "Try using .loc[row_indexer,col_indexer] = value instead\n",
      "\n",
      "See the caveats in the documentation: https://pandas.pydata.org/pandas-docs/stable/user_guide/indexing.html#returning-a-view-versus-a-copy\n",
      "  df_cleaned[fl] = df_cleaned[fl].fillna(0)\n",
      "C:\\Users\\dharu\\AppData\\Local\\Temp\\ipykernel_19628\\1744801047.py:2: SettingWithCopyWarning: \n",
      "A value is trying to be set on a copy of a slice from a DataFrame.\n",
      "Try using .loc[row_indexer,col_indexer] = value instead\n",
      "\n",
      "See the caveats in the documentation: https://pandas.pydata.org/pandas-docs/stable/user_guide/indexing.html#returning-a-view-versus-a-copy\n",
      "  df_cleaned[it] = df_cleaned[it].fillna(0)\n",
      "C:\\Users\\dharu\\AppData\\Local\\Temp\\ipykernel_19628\\1744801047.py:3: SettingWithCopyWarning: \n",
      "A value is trying to be set on a copy of a slice from a DataFrame.\n",
      "Try using .loc[row_indexer,col_indexer] = value instead\n",
      "\n",
      "See the caveats in the documentation: https://pandas.pydata.org/pandas-docs/stable/user_guide/indexing.html#returning-a-view-versus-a-copy\n",
      "  df_cleaned[ob] = df_cleaned[ob].fillna(\"NA\")\n"
     ]
    }
   ],
   "source": [
    "df_cleaned[fl] = df_cleaned[fl].fillna(0)\n",
    "df_cleaned[it] = df_cleaned[it].fillna(0)\n",
    "df_cleaned[ob] = df_cleaned[ob].fillna(\"NA\")"
   ]
  },
  {
   "cell_type": "code",
   "execution_count": 18,
   "id": "51f7711d",
   "metadata": {},
   "outputs": [
    {
     "name": "stdout",
     "output_type": "stream",
     "text": [
      "<class 'pandas.core.frame.DataFrame'>\n",
      "RangeIndex: 380837 entries, 0 to 380836\n",
      "Data columns (total 34 columns):\n",
      " #   Column       Non-Null Count   Dtype  \n",
      "---  ------       --------------   -----  \n",
      " 0   logver       380837 non-null  int64  \n",
      " 1   timestamp    380837 non-null  int64  \n",
      " 2   tz           380837 non-null  object \n",
      " 3   devname      380837 non-null  object \n",
      " 4   devid        380837 non-null  object \n",
      " 5   vd           380837 non-null  object \n",
      " 6   date         380837 non-null  object \n",
      " 7   time         380837 non-null  object \n",
      " 8   logid        380837 non-null  object \n",
      " 9   type         380837 non-null  object \n",
      " 10  subtype      380837 non-null  object \n",
      " 11  level        380837 non-null  object \n",
      " 12  eventtime    380837 non-null  int64  \n",
      " 13  srcip        380837 non-null  object \n",
      " 14  srcintf      380837 non-null  object \n",
      " 15  srcintfrole  380837 non-null  object \n",
      " 16  dstip        380837 non-null  object \n",
      " 17  dstintf      380837 non-null  object \n",
      " 18  dstintfrole  380837 non-null  object \n",
      " 19  poluuid      380837 non-null  object \n",
      " 20  sessionid    380837 non-null  float64\n",
      " 21  proto        380837 non-null  float64\n",
      " 22  action       380837 non-null  object \n",
      " 23  policyid     380837 non-null  float64\n",
      " 24  policytype   380837 non-null  object \n",
      " 25  service      380837 non-null  object \n",
      " 26  dstcountry   380837 non-null  object \n",
      " 27  srccountry   380837 non-null  object \n",
      " 28  trandisp     380837 non-null  object \n",
      " 29  duration     380837 non-null  float64\n",
      " 30  sentbyte     380837 non-null  float64\n",
      " 31  rcvdbyte     380837 non-null  float64\n",
      " 32  sentpkt      380837 non-null  float64\n",
      " 33  appcat       380837 non-null  object \n",
      "dtypes: float64(7), int64(3), object(24)\n",
      "memory usage: 98.8+ MB\n"
     ]
    }
   ],
   "source": [
    "df_cleaned.info()"
   ]
  },
  {
   "cell_type": "code",
   "execution_count": 20,
   "id": "1cf8c1ae",
   "metadata": {},
   "outputs": [],
   "source": [
    "selected_features = [\n",
    "    'eventtime', 'sessionid', 'proto', 'policyid', 'duration', 'sentbyte', 'rcvdbyte', 'sentpkt',\n",
    "    'devname', 'type', 'subtype', 'level', 'srcintf', 'dstintf', 'action', 'policytype', \n",
    "    'service', 'dstcountry', 'srccountry', 'trandisp', 'appcat', 'timestamp'\n",
    "]\n",
    "\n",
    "df_selected = df_cleaned[selected_features]"
   ]
  },
  {
   "cell_type": "code",
   "execution_count": 24,
   "id": "ce115dea",
   "metadata": {},
   "outputs": [
    {
     "name": "stderr",
     "output_type": "stream",
     "text": [
      "C:\\Users\\dharu\\AppData\\Local\\Temp\\ipykernel_19628\\4024071963.py:3: SettingWithCopyWarning: \n",
      "A value is trying to be set on a copy of a slice from a DataFrame.\n",
      "Try using .loc[row_indexer,col_indexer] = value instead\n",
      "\n",
      "See the caveats in the documentation: https://pandas.pydata.org/pandas-docs/stable/user_guide/indexing.html#returning-a-view-versus-a-copy\n",
      "  df_selected[i] = lab.fit_transform(df_selected[i])\n"
     ]
    }
   ],
   "source": [
    "lab = LabelEncoder()\n",
    "for i in selected_features:\n",
    "    df_selected[i] = lab.fit_transform(df_selected[i])"
   ]
  },
  {
   "cell_type": "code",
   "execution_count": 32,
   "id": "90ec6e8c",
   "metadata": {},
   "outputs": [],
   "source": [
    "dbscan = DBSCAN(eps=0.5, min_samples=4)\n",
    "clusters = dbscan.fit_predict(df_selected)"
   ]
  },
  {
   "cell_type": "code",
   "execution_count": 33,
   "id": "4f7a00cf",
   "metadata": {},
   "outputs": [
    {
     "data": {
      "text/plain": [
       "[-1, 0]"
      ]
     },
     "execution_count": 33,
     "metadata": {},
     "output_type": "execute_result"
    }
   ],
   "source": [
    "cl = []\n",
    "for i in clusters:\n",
    "    if i not in cl:\n",
    "        cl.append(i)\n",
    "cl"
   ]
  },
  {
   "cell_type": "code",
   "execution_count": 37,
   "id": "165e428a",
   "metadata": {},
   "outputs": [
    {
     "data": {
      "text/plain": [
       "Index(['eventtime', 'sessionid', 'proto', 'policyid', 'duration', 'sentbyte',\n",
       "       'rcvdbyte', 'sentpkt', 'devname', 'type', 'subtype', 'level', 'srcintf',\n",
       "       'dstintf', 'action', 'policytype', 'service', 'dstcountry',\n",
       "       'srccountry', 'trandisp', 'appcat', 'timestamp'],\n",
       "      dtype='object')"
      ]
     },
     "execution_count": 37,
     "metadata": {},
     "output_type": "execute_result"
    }
   ],
   "source": [
    "df_selected.columns"
   ]
  },
  {
   "cell_type": "code",
   "execution_count": 39,
   "id": "c0ba35a2",
   "metadata": {},
   "outputs": [
    {
     "data": {
      "image/png": "[encoded data removed]",
      "text/plain": [
       "<Figure size 640x480 with 1 Axes>"
      ]
     },
     "metadata": {},
     "output_type": "display_data"
    }
   ],
   "source": [
    "plt.scatter(df_selected['sessionid'], df_selected['eventtime'], c=clusters, s=10)\n",
    "plt.title('DBSCAN Clustering')\n",
    "plt.xlabel('Feature 1')\n",
    "plt.ylabel('Feature 2')\n",
    "plt.show()"
   ]
  },
  {
   "cell_type": "code",
   "execution_count": null,
   "id": "eecd2419",
   "metadata": {},
   "outputs": [],
   "source": []
  }
 ],
 "metadata": {
  "kernelspec": {
   "display_name": "Python 3 (ipykernel)",
   "language": "python",
   "name": "python3"
  },
  "language_info": {
   "codemirror_mode": {
    "name": "ipython",
    "version": 3
   },
   "file_extension": ".py",
   "mimetype": "text/x-python",
   "name": "python",
   "nbconvert_exporter": "python",
   "pygments_lexer": "ipython3",
   "version": "3.9.13"
  }
 },
 "nbformat": 4,
 "nbformat_minor": 5
}
